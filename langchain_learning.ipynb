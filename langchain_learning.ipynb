{
 "cells": [
  {
   "cell_type": "code",
   "execution_count": 14,
   "metadata": {},
   "outputs": [
    {
     "data": {
      "text/plain": [
       "AIMessage(content=\"Hello! It's nice to meet you. Is there something I can help you with or would you like to chat?\", additional_kwargs={}, response_metadata={'token_usage': {'completion_tokens': 25, 'prompt_tokens': 39, 'total_tokens': 64, 'completion_time': 0.090909091, 'prompt_time': 0.007609431, 'queue_time': 0.0002301579999999994, 'total_time': 0.098518522}, 'model_name': 'llama-3.3-70b-versatile', 'system_fingerprint': 'fp_4e32347616', 'finish_reason': 'stop', 'logprobs': None}, id='run-6703a612-100f-4639-b812-b98159a1c055-0', usage_metadata={'input_tokens': 39, 'output_tokens': 25, 'total_tokens': 64})"
      ]
     },
     "execution_count": 14,
     "metadata": {},
     "output_type": "execute_result"
    }
   ],
   "source": [
    "from langchain_groq import ChatGroq\n",
    "\n",
    "model = ChatGroq(model=\"llama-3.3-70b-versatile\", temperature=0)\n",
    "\n",
    "model.invoke(\"Hello, world!\")\n"
   ]
  },
  {
   "cell_type": "code",
   "execution_count": 17,
   "metadata": {},
   "outputs": [
    {
     "data": {
      "text/markdown": [
       "**Title:** Investigation of Jet Noise Interaction with the Wing: Experimental, Semi-Empirical, Analytical, and Simulation Approaches\n",
       "\n",
       "**Abstract:**\n",
       "The interaction between jet noise and the wing is a complex phenomenon that affects the overall noise levels and aerodynamic performance of an aircraft. This dissertation aims to investigate the jet noise interaction with the wing using experimental, semi-empirical, analytical, and simulation approaches. The study focuses on the noise reduction mechanisms and the effects of wing geometry, jet velocity, and angle of attack on the noise levels. The results of this research will contribute to the development of more efficient and quieter aircraft designs.\n",
       "\n",
       "**Introduction:**\n",
       "Jet noise is a significant contributor to the overall noise levels of an aircraft, and its interaction with the wing can lead to increased noise levels and reduced aerodynamic performance. The wing can act as a reflector, amplifier, or absorber of the jet noise, depending on its geometry and the flow conditions. Understanding the mechanisms of jet noise interaction with the wing is crucial for the development of more efficient and quieter aircraft designs.\n",
       "\n",
       "**Literature Review:**\n",
       "Previous studies have investigated the jet noise interaction with the wing using various approaches, including experimental, semi-empirical, analytical, and simulation methods. Experimental studies have focused on measuring the noise levels and flow fields around the wing-jet configuration. Semi-empirical models have been developed to predict the noise levels based on empirical correlations. Analytical models have been used to study the acoustic scattering and diffraction of the jet noise by the wing. Simulation approaches, such as computational fluid dynamics (CFD) and computational aeroacoustics (CAA), have been employed to simulate the flow and noise fields around the wing-jet configuration.\n",
       "\n",
       "**Methodology:**\n",
       "This study will employ a combination of experimental, semi-empirical, analytical, and simulation approaches to investigate the jet noise interaction with the wing. The experimental approach will involve measuring the noise levels and flow fields around a wing-jet configuration using a wind tunnel and acoustic measurement techniques. The semi-empirical approach will involve developing a model to predict the noise levels based on empirical correlations. The analytical approach will involve using acoustic scattering and diffraction theories to study the interaction between the jet noise and the wing. The simulation approach will involve using CFD and CAA to simulate the flow and noise fields around the wing-jet configuration.\n",
       "\n",
       "**Experimental Approach:**\n",
       "The experimental approach will involve measuring the noise levels and flow fields around a wing-jet configuration using a wind tunnel and acoustic measurement techniques. The wing-jet configuration will be mounted in a wind tunnel, and the noise levels will be measured using microphones and acoustic sensors. The flow fields will be measured using particle image velocimetry (PIV) and hot-wire anemometry. The experiments will be conducted at various jet velocities and angles of attack to study the effects of these parameters on the noise levels and flow fields.\n",
       "\n",
       "**Semi-Empirical Approach:**\n",
       "The semi-empirical approach will involve developing a model to predict the noise levels based on empirical correlations. The model will be developed using a combination of experimental data and empirical correlations. The model will be validated using experimental data and will be used to predict the noise levels for various wing-jet configurations.\n",
       "\n",
       "**Analytical Approach:**\n",
       "The analytical approach will involve using acoustic scattering and diffraction theories to study the interaction between the jet noise and the wing. The acoustic scattering and diffraction theories will be used to predict the noise levels and to study the effects of wing geometry and jet velocity on the noise levels.\n",
       "\n",
       "**Simulation Approach:**\n",
       "The simulation approach will involve using CFD and CAA to simulate the flow and noise fields around the wing-jet configuration. The simulations will be conducted using a commercial CFD software package, and the results will be validated using experimental data. The simulations will be used to study the effects of wing geometry, jet velocity, and angle of attack on the noise levels and flow fields.\n",
       "\n",
       "**Results:**\n",
       "The results of this study will be presented in terms of the noise levels and flow fields around the wing-jet configuration. The results will be compared with experimental data and will be used to validate the semi-empirical, analytical, and simulation models. The results will also be used to study the effects of wing geometry, jet velocity, and angle of attack on the noise levels and flow fields.\n",
       "\n",
       "**Conclusion:**\n",
       "This dissertation will contribute to the understanding of the jet noise interaction with the wing using experimental, semi-empirical, analytical, and simulation approaches. The results of this study will be used to develop more efficient and quieter aircraft designs. The study will also provide a comprehensive understanding of the mechanisms of jet noise interaction with the wing, which will be useful for the development of noise reduction technologies.\n",
       "\n",
       "**Recommendations:**\n",
       "Based on the results of this study, the following recommendations are made:\n",
       "\n",
       "1. The wing geometry and jet velocity should be optimized to minimize the noise levels.\n",
       "2. The angle of attack should be optimized to minimize the noise levels.\n",
       "3. The semi-empirical, analytical, and simulation models should be used to predict the noise levels for various wing-jet configurations.\n",
       "4. The results of this study should be used to develop more efficient and quieter aircraft designs.\n",
       "\n",
       "**Future Work:**\n",
       "Future work should focus on the following areas:\n",
       "\n",
       "1. Developing more advanced semi-empirical, analytical, and simulation models to predict the noise levels and flow fields around the wing-jet configuration.\n",
       "2. Investigating the effects of other parameters, such as wing camber and jet temperature, on the noise levels and flow fields.\n",
       "3. Developing noise reduction technologies based on the understanding of the mechanisms of jet noise interaction with the wing.\n",
       "\n",
       "**References:**\n",
       "\n",
       "* [1] J. M. Seiner, \"Aerodynamic noise from fluid flows,\" Journal of the Acoustical Society of America, vol. 74, no. 3, pp. 831-838, 1983.\n",
       "* [2] A. S. Lyrintzis, \"Theoretical modeling of jet noise,\" Journal of Fluid Mechanics, vol. 393, pp. 257-282, 1999.\n",
       "* [3] J. C. Hardin, \"Noise reduction by wing-jet interaction,\" Journal of Aircraft, vol. 24, no. 10, pp. 731-738, 1987.\n",
       "* [4] Y. Liu, \"Numerical simulation of jet noise and its interaction with the wing,\" Journal of Computational Physics, vol. 231, no. 10, pp. 4321-4334, 2012.\n",
       "\n",
       "Note: This is a draft, and you should expand on each section and include more details, equations, and references as needed. Additionally, you should proofread and edit the text to ensure that it is clear, concise, and free of errors."
      ],
      "text/plain": [
       "<IPython.core.display.Markdown object>"
      ]
     },
     "metadata": {},
     "output_type": "display_data"
    }
   ],
   "source": [
    "from langchain_core.messages import HumanMessage, SystemMessage\n",
    "from IPython.display import display, Markdown\n",
    "\n",
    "messages = [\n",
    "    SystemMessage(\"Create a masters dissertation draft according to the requirement from the human\"),\n",
    "    HumanMessage(\"jet noise interaction with the wing. experimental, semi-empirical, analytical and simulation approaches.\")\n",
    "]\n",
    "\n",
    "# for token in model.stream(messages):\n",
    "#     print(token.content, end=\"\")\n",
    "output = model.invoke(messages)\n",
    "display(Markdown(output.content))\n"
   ]
  },
  {
   "cell_type": "markdown",
   "metadata": {},
   "source": [
    "## Você pode criar templates de prompt, com placeholders para substituir automaticamente"
   ]
  },
  {
   "cell_type": "code",
   "execution_count": 3,
   "metadata": {},
   "outputs": [],
   "source": [
    "from langchain_core.prompts import ChatPromptTemplate\n",
    "\n",
    "system_template = \"Translate the following sentence from English to {language}\"\n",
    "user_template = \"{text}\"\n",
    "\n",
    "prompt_template = ChatPromptTemplate.from_messages(\n",
    "    [(\"system\", system_template), (\"user\", user_template)]\n",
    ")"
   ]
  },
  {
   "cell_type": "code",
   "execution_count": 4,
   "metadata": {},
   "outputs": [
    {
     "data": {
      "text/plain": [
       "ChatPromptValue(messages=[SystemMessage(content='Translate the following sentence from English to brazilian portuguese', additional_kwargs={}, response_metadata={}), HumanMessage(content='hey guys! how are you all doing?', additional_kwargs={}, response_metadata={})])"
      ]
     },
     "execution_count": 4,
     "metadata": {},
     "output_type": "execute_result"
    }
   ],
   "source": [
    "prompt = prompt_template.invoke({\"language\": \"brazilian portuguese\", \"text\": \"hey guys! how are you all doing?\"})\n",
    "\n",
    "prompt"
   ]
  },
  {
   "cell_type": "code",
   "execution_count": 5,
   "metadata": {},
   "outputs": [
    {
     "data": {
      "text/plain": [
       "[SystemMessage(content='Translate the following sentence from English to brazilian portuguese', additional_kwargs={}, response_metadata={}),\n",
       " HumanMessage(content='hey guys! how are you all doing?', additional_kwargs={}, response_metadata={})]"
      ]
     },
     "execution_count": 5,
     "metadata": {},
     "output_type": "execute_result"
    }
   ],
   "source": [
    "prompt.to_messages()"
   ]
  },
  {
   "cell_type": "code",
   "execution_count": 6,
   "metadata": {},
   "outputs": [
    {
     "name": "stdout",
     "output_type": "stream",
     "text": [
      "Ei pessoal! Como vocês estão?\n"
     ]
    }
   ],
   "source": [
    "response = model.invoke(prompt)\n",
    "print(response.content)"
   ]
  },
  {
   "cell_type": "markdown",
   "metadata": {},
   "source": [
    "# Output estruturado, permitindo o modelo escolher a estrutura mais adequada ao prompt"
   ]
  },
  {
   "cell_type": "code",
   "execution_count": 7,
   "metadata": {},
   "outputs": [],
   "source": [
    "from typing import Optional, Union\n",
    "\n",
    "from pydantic import BaseModel, Field\n",
    "from enum import Enum\n",
    "\n",
    "# Pydantic\n",
    "class Joke(BaseModel):\n",
    "    \"\"\"Joke to tell the user.\"\"\"\n",
    "\n",
    "    setup: str = Field(description=\"The setup of the joke\")\n",
    "    punchline: str = Field(description=\"The punchline to the joke\")\n",
    "    rating: int = Field(\n",
    "        default=-1, description=\"How funny the joke is, from 1 to 10\"\n",
    "    )\n",
    "\n",
    "class VoiceOptions(Enum):\n",
    "    A = \"creepy\"\n",
    "    B = \"gentle\"\n",
    "    C = \"misterious\"\n",
    "    D = \"sad\"\n",
    "\n",
    "class Story(BaseModel):\n",
    "    \"\"\"Story to be told to the user.\"\"\"\n",
    "\n",
    "    soundtrack: str = Field(description=\"A specific song to be played while the story is read, to give the emotion the story evokes.\")\n",
    "    voice_option: VoiceOptions = Field(description=\"The tone that the person who reads the story must have to give the emotion the story evokes.\")\n",
    "    story: str = Field(description=\"The story to be read to the user\")\n",
    "\n",
    "class ConversationalResponse(BaseModel):\n",
    "    \"\"\"Respond in a conversational manner and be kind.\"\"\"\n",
    "\n",
    "    response: str = Field(description=\"A conversational response to the user's query.\")\n",
    "\n",
    "class AnswerOptions(BaseModel):\n",
    "    answer: Union[Joke, Story, ConversationalResponse]\n",
    "\n",
    "structured_llm = model.with_structured_output(AnswerOptions)"
   ]
  },
  {
   "cell_type": "code",
   "execution_count": 8,
   "metadata": {},
   "outputs": [
    {
     "data": {
      "text/plain": [
       "AnswerOptions(answer=Joke(setup='Why did the cat join a band?', punchline='Because it wanted to be the purr-cussionist!', rating=8))"
      ]
     },
     "execution_count": 8,
     "metadata": {},
     "output_type": "execute_result"
    }
   ],
   "source": [
    "answer = structured_llm.invoke(\"Tell me a joke about cats\")\n",
    "answer"
   ]
  },
  {
   "cell_type": "code",
   "execution_count": 9,
   "metadata": {},
   "outputs": [
    {
     "data": {
      "text/plain": [
       "AnswerOptions(answer=Story(soundtrack='Mad World by Gary Jules', voice_option=<VoiceOptions.D: 'sad'>, story='Once upon a time, in a bustling colony of ants, there was one ant named Andy. Andy lived a life of solitude, often finding himself lost in the crowd of his own kin. While his fellow ants worked tirelessly to gather food and build their home, Andy struggled to find his place. He felt like an outcast, a small and insignificant speck in the grand scheme of things. As the days went by, Andy became increasingly withdrawn, spending most of his time alone, wandering the desolate outskirts of the colony. He longed for connection, for someone to share his thoughts and feelings with, but it seemed like no one was interested. The other ants were too busy with their own lives to notice Andy’s struggles. As the seasons changed, Andy’s loneliness only deepened. He felt like he was drowning in a sea of faces, unable to find a lifeline to cling to. His heart ached with a sadness that seemed to have no end. And so, Andy continued to wander, a small and forgotten ant in a world that seemed to have moved on without him.'))"
      ]
     },
     "execution_count": 9,
     "metadata": {},
     "output_type": "execute_result"
    }
   ],
   "source": [
    "answer = structured_llm.invoke(\"Tell me story about the sad life of a lonely ant\")\n",
    "answer"
   ]
  },
  {
   "cell_type": "code",
   "execution_count": 10,
   "metadata": {},
   "outputs": [
    {
     "data": {
      "text/plain": [
       "'sad'"
      ]
     },
     "execution_count": 10,
     "metadata": {},
     "output_type": "execute_result"
    }
   ],
   "source": [
    "answer.answer.voice_option.value"
   ]
  }
 ],
 "metadata": {
  "kernelspec": {
   "display_name": ".venv",
   "language": "python",
   "name": "python3"
  },
  "language_info": {
   "codemirror_mode": {
    "name": "ipython",
    "version": 3
   },
   "file_extension": ".py",
   "mimetype": "text/x-python",
   "name": "python",
   "nbconvert_exporter": "python",
   "pygments_lexer": "ipython3",
   "version": "3.13.1"
  }
 },
 "nbformat": 4,
 "nbformat_minor": 2
}
