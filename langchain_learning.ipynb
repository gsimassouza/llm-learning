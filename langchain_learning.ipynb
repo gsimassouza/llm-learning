{
 "cells": [
  {
   "cell_type": "code",
   "execution_count": 1,
   "metadata": {},
   "outputs": [
    {
     "data": {
      "text/plain": [
       "AIMessage(content='Hello. How can I assist you today?', additional_kwargs={}, response_metadata={'token_usage': {'completion_tokens': 10, 'prompt_tokens': 39, 'total_tokens': 49, 'completion_time': 0.04, 'prompt_time': 0.006590195, 'queue_time': 0.008387084, 'total_time': 0.046590195}, 'model_name': 'llama-3.1-70b-versatile', 'system_fingerprint': 'fp_b6828be2c9', 'finish_reason': 'stop', 'logprobs': None}, id='run-b44915b5-dbfb-44e6-89d8-986aa98cc77e-0', usage_metadata={'input_tokens': 39, 'output_tokens': 10, 'total_tokens': 49})"
      ]
     },
     "execution_count": 1,
     "metadata": {},
     "output_type": "execute_result"
    }
   ],
   "source": [
    "from langchain_groq import ChatGroq\n",
    "\n",
    "model = ChatGroq(model=\"llama-3.1-70b-versatile\", temperature=0)\n",
    "\n",
    "model.invoke(\"Hello, world!\")\n"
   ]
  },
  {
   "cell_type": "code",
   "execution_count": 2,
   "metadata": {},
   "outputs": [
    {
     "name": "stdout",
     "output_type": "stream",
     "text": [
      "**Master's Dissertation Draft:**\n",
      "\n",
      "**Title:** Investigation of Jet Noise Interaction with the Wing: Experimental, Semi-Empirical, Analytical, and Simulation Approaches\n",
      "\n",
      "**Abstract:**\n",
      "\n",
      "The interaction between jet noise and wing is a complex phenomenon that affects the overall noise levels and aerodynamic performance of aircraft. This dissertation aims to investigate the jet noise interaction with the wing using experimental, semi-empirical, analytical, and simulation approaches. The study focuses on understanding the underlying mechanisms of jet noise generation, propagation, and interaction with the wing. The results of this research will contribute to the development of more accurate noise prediction models and optimization of wing design for reduced noise levels.\n",
      "\n",
      "**Introduction:**\n",
      "\n",
      "Jet noise is a significant contributor to the overall noise levels of aircraft, particularly during takeoff and landing. The interaction between jet noise and the wing can lead to increased noise levels, reduced aerodynamic performance, and structural fatigue. Understanding the mechanisms of jet noise generation, propagation, and interaction with the wing is crucial for the development of more efficient and quieter aircraft.\n",
      "\n",
      "**Literature Review:**\n",
      "\n",
      "The literature review provides an overview of the current state of knowledge on jet noise interaction with the wing. The review covers the following topics:\n",
      "\n",
      "1. Jet noise generation mechanisms\n",
      "2. Jet noise propagation and interaction with the wing\n",
      "3. Experimental and numerical methods for studying jet noise interaction with the wing\n",
      "4. Semi-empirical and analytical models for predicting jet noise interaction with the wing\n",
      "\n",
      "**Methodology:**\n",
      "\n",
      "The methodology employed in this study includes:\n",
      "\n",
      "1. **Experimental Approach:** Wind tunnel experiments were conducted to measure the noise levels and aerodynamic performance of a wing subjected to jet noise. The experiments were performed using a scaled model of a wing and a jet nozzle.\n",
      "2. **Semi-Empirical Approach:** A semi-empirical model was developed to predict the jet noise interaction with the wing. The model was based on empirical correlations and analytical expressions.\n",
      "3. **Analytical Approach:** An analytical model was developed to study the jet noise interaction with the wing. The model was based on the linearized Euler equations and the acoustic analogy.\n",
      "4. **Simulation Approach:** Computational fluid dynamics (CFD) and computational aeroacoustics (CAA) simulations were performed to study the jet noise interaction with the wing. The simulations were performed using a commercial CFD/CAA software.\n",
      "\n",
      "**Results:**\n",
      "\n",
      "The results of the study are presented in this section. The results include:\n",
      "\n",
      "1. **Experimental Results:** The experimental results show the effects of jet noise on the noise levels and aerodynamic performance of the wing.\n",
      "2. **Semi-Empirical Results:** The semi-empirical results show the predicted jet noise interaction with the wing using the developed model.\n",
      "3. **Analytical Results:** The analytical results show the predicted jet noise interaction with the wing using the developed model.\n",
      "4. **Simulation Results:** The simulation results show the predicted jet noise interaction with the wing using CFD/CAA simulations.\n",
      "\n",
      "**Discussion:**\n",
      "\n",
      "The discussion section provides an interpretation of the results and a comparison with the existing literature. The discussion includes:\n",
      "\n",
      "1. **Comparison of Experimental and Numerical Results:** The experimental and numerical results are compared to validate the accuracy of the numerical models.\n",
      "2. **Comparison of Semi-Empirical and Analytical Results:** The semi-empirical and analytical results are compared to evaluate the accuracy of the developed models.\n",
      "3. **Comparison of Simulation Results:** The simulation results are compared to evaluate the accuracy of the CFD/CAA simulations.\n",
      "\n",
      "**Conclusion:**\n",
      "\n",
      "The conclusion summarizes the main findings of the study and provides recommendations for future research. The conclusion includes:\n",
      "\n",
      "1. **Summary of Findings:** The main findings of the study are summarized.\n",
      "2. **Recommendations for Future Research:** Recommendations for future research are provided to further investigate the jet noise interaction with the wing.\n",
      "\n",
      "**References:**\n",
      "\n",
      "The references cited in the dissertation are listed in this section.\n",
      "\n",
      "**Appendices:**\n",
      "\n",
      "The appendices include additional information that supports the dissertation, such as:\n",
      "\n",
      "1. **Experimental Setup:** The experimental setup is described in detail.\n",
      "2. **Semi-Empirical Model:** The semi-empirical model is described in detail.\n",
      "3. **Analytical Model:** The analytical model is described in detail.\n",
      "4. **Simulation Setup:** The simulation setup is described in detail.\n",
      "\n",
      "Note: This is a draft, and you should expand on each section and include more details, figures, and tables to support your research. Additionally, you should proofread and edit your work to ensure that it meets the requirements of a master's dissertation."
     ]
    }
   ],
   "source": [
    "from langchain_core.messages import HumanMessage, SystemMessage\n",
    "\n",
    "messages = [\n",
    "    SystemMessage(\"Create a masters dissertation draft according to the requirement from the human\"),\n",
    "    HumanMessage(\"jet noise interaction with the wing. experimental, semi-empirical, analytical and simulation approaches.\")\n",
    "]\n",
    "\n",
    "for token in model.stream(messages):\n",
    "    print(token.content, end=\"\")\n"
   ]
  },
  {
   "cell_type": "markdown",
   "metadata": {},
   "source": [
    "## Você pode criar templates de prompt, com placeholders para substituir automaticamente"
   ]
  },
  {
   "cell_type": "code",
   "execution_count": 3,
   "metadata": {},
   "outputs": [],
   "source": [
    "from langchain_core.prompts import ChatPromptTemplate\n",
    "\n",
    "system_template = \"Translate the following sentence from English to {language}\"\n",
    "user_template = \"{text}\"\n",
    "\n",
    "prompt_template = ChatPromptTemplate.from_messages(\n",
    "    [(\"system\", system_template), (\"user\", user_template)]\n",
    ")"
   ]
  },
  {
   "cell_type": "code",
   "execution_count": 9,
   "metadata": {},
   "outputs": [
    {
     "data": {
      "text/plain": [
       "ChatPromptValue(messages=[SystemMessage(content='Translate the following sentence from English to brazilian portuguese', additional_kwargs={}, response_metadata={}), HumanMessage(content='hey guys! how are you all doing?', additional_kwargs={}, response_metadata={})])"
      ]
     },
     "execution_count": 9,
     "metadata": {},
     "output_type": "execute_result"
    }
   ],
   "source": [
    "prompt = prompt_template.invoke({\"language\": \"brazilian portuguese\", \"text\": \"hey guys! how are you all doing?\"})\n",
    "\n",
    "prompt"
   ]
  },
  {
   "cell_type": "code",
   "execution_count": 6,
   "metadata": {},
   "outputs": [
    {
     "data": {
      "text/plain": [
       "[SystemMessage(content='Translate the following sentence from English to italian', additional_kwargs={}, response_metadata={}),\n",
       " HumanMessage(content='hey guys! how are you all doing?', additional_kwargs={}, response_metadata={})]"
      ]
     },
     "execution_count": 6,
     "metadata": {},
     "output_type": "execute_result"
    }
   ],
   "source": [
    "prompt.to_messages()"
   ]
  },
  {
   "cell_type": "code",
   "execution_count": 11,
   "metadata": {},
   "outputs": [
    {
     "name": "stdout",
     "output_type": "stream",
     "text": [
      "Ei pessoal! Como vocês estão?\n"
     ]
    }
   ],
   "source": [
    "response = model.invoke(prompt)\n",
    "print(response.content)"
   ]
  },
  {
   "cell_type": "markdown",
   "metadata": {},
   "source": [
    "# Output estruturado, permitindo o modelo escolher a estrutura mais adequada ao prompt"
   ]
  },
  {
   "cell_type": "code",
   "execution_count": 65,
   "metadata": {},
   "outputs": [],
   "source": [
    "from typing import Optional, Union\n",
    "\n",
    "from pydantic import BaseModel, Field\n",
    "from enum import Enum\n",
    "\n",
    "# Pydantic\n",
    "class Joke(BaseModel):\n",
    "    \"\"\"Joke to tell the user.\"\"\"\n",
    "\n",
    "    setup: str = Field(description=\"The setup of the joke\")\n",
    "    punchline: str = Field(description=\"The punchline to the joke\")\n",
    "    rating: int = Field(\n",
    "        default=-1, description=\"How funny the joke is, from 1 to 10\"\n",
    "    )\n",
    "\n",
    "class VoiceOptions(Enum):\n",
    "    A = \"creepy\"\n",
    "    B = \"gentle\"\n",
    "    C = \"misterious\"\n",
    "    D = \"sad\"\n",
    "\n",
    "class Story(BaseModel):\n",
    "    \"\"\"Story to be told to the user.\"\"\"\n",
    "\n",
    "    soundtrack: str = Field(description=\"A specific song to be played while the story is read, to give the emotion the story evokes.\")\n",
    "    voice_option: VoiceOptions = Field(description=\"The tone that the person who reads the story must have to give the emotion the story evokes.\")\n",
    "    story: str = Field(description=\"The story to be read to the user\")\n",
    "\n",
    "class ConversationalResponse(BaseModel):\n",
    "    \"\"\"Respond in a conversational manner and be kind.\"\"\"\n",
    "\n",
    "    response: str = Field(description=\"A conversational response to the user's query.\")\n",
    "\n",
    "class AnswerOptions(BaseModel):\n",
    "    answer: Union[Joke, Story, ConversationalResponse]\n",
    "\n",
    "structured_llm = model.with_structured_output(AnswerOptions)"
   ]
  },
  {
   "cell_type": "code",
   "execution_count": 61,
   "metadata": {},
   "outputs": [
    {
     "data": {
      "text/plain": [
       "AnswerOptions(answer=Joke(setup='Why did the cat join a band?', punchline='Because it wanted to be the purr-cussionist!', rating=8))"
      ]
     },
     "execution_count": 61,
     "metadata": {},
     "output_type": "execute_result"
    }
   ],
   "source": [
    "answer = structured_llm.invoke(\"Tell me a joke about cats\")\n",
    "answer"
   ]
  },
  {
   "cell_type": "code",
   "execution_count": 66,
   "metadata": {},
   "outputs": [
    {
     "data": {
      "text/plain": [
       "AnswerOptions(answer=Story(soundtrack='Mad World by Gary Jules', voice_option=<VoiceOptions.D: 'sad'>, story='Once upon a time, in a bustling colony of ants, there was one ant named Andy. Andy lived a life of solitude, often finding himself lost in the crowd of his own kin. While his fellow ants worked tirelessly to gather food and build their home, Andy struggled to find his place. He felt like an outcast, a small, insignificant speck in the grand scheme of things. As the days went by, Andy became increasingly withdrawn, spending most of his time alone, wandering the desolate outskirts of the colony. He longed for connection, for someone to share his thoughts and feelings with, but it seemed like no one was interested. The other ants were too busy with their own lives to notice Andy’s struggles. As the seasons changed, Andy’s loneliness only deepened. He felt like he was drowning in a sea of faces, unable to find a lifeline to cling to. His heart ached with a sadness that seemed to have no end. And so, Andy continued to live his life in solitude, a small, forgotten ant in a world that seemed to have moved on without him.'))"
      ]
     },
     "execution_count": 66,
     "metadata": {},
     "output_type": "execute_result"
    }
   ],
   "source": [
    "answer = structured_llm.invoke(\"Tell me story about the sad life of a lonely ant\")\n",
    "answer"
   ]
  },
  {
   "cell_type": "code",
   "execution_count": 67,
   "metadata": {},
   "outputs": [
    {
     "data": {
      "text/plain": [
       "'sad'"
      ]
     },
     "execution_count": 67,
     "metadata": {},
     "output_type": "execute_result"
    }
   ],
   "source": [
    "answer.answer.voice_option.value"
   ]
  }
 ],
 "metadata": {
  "kernelspec": {
   "display_name": ".venv",
   "language": "python",
   "name": "python3"
  },
  "language_info": {
   "codemirror_mode": {
    "name": "ipython",
    "version": 3
   },
   "file_extension": ".py",
   "mimetype": "text/x-python",
   "name": "python",
   "nbconvert_exporter": "python",
   "pygments_lexer": "ipython3",
   "version": "3.11.0"
  }
 },
 "nbformat": 4,
 "nbformat_minor": 2
}
